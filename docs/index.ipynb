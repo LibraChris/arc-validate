{
 "cells": [
  {
   "cell_type": "code",
   "execution_count": null,
   "id": "bd6998f3",
   "metadata": {
    "dotnet_interactive": {
     "language": "fsharp"
    },
    "dotnet_repl_cellExecutionEndTime": "2024-01-12T15:05:46.158417+01:00",
    "dotnet_repl_cellExecutionStartTime": "2024-01-12T15:05:42.9065037+01:00",
    "polyglot_notebook": {
     "kernelName": "fsharp"
    },
    "vscode": {
     "languageId": "polyglot-notebook"
    }
   },
   "outputs": [],
   "source": [
    "(***hide***)\n",
    "\n",
    "#r \"nuget: Expecto, 9.0.4\"\n",
    "#r \"nuget: FSharpAux, 2.0.0\"\n",
    "#r \"nuget: FsSpreadsheet, 5.0.2\"\n",
    "#r \"nuget: FsSpreadsheet.ExcelIO, 5.0.2\"\n",
    "#r \"nuget: ARCTokenization, 3.0.0\"\n",
    "#r \"nuget: Graphoscope, 0.6.0-preview.1\"\n",
    "#r \"nuget: OBO.NET, 0.4.2\"\n",
    "#r \"nuget: Cytoscape.NET, 0.2.0\"\n",
    "#r \"nuget: AnyBadge.NET, 2.0.0\"\n",
    "#r @\"C:\\Users\\schne\\source\\repos\\nfdi4plants\\arc-validate\\src\\ARCExpect\\bin\\Release\\netstandard2.0\\ARCExpect.dll\"\n"
   ]
  },
  {
   "cell_type": "markdown",
   "metadata": {
    "dotnet_repl_cellExecutionEndTime": "2024-01-12T15:05:46.1594398+01:00",
    "dotnet_repl_cellExecutionStartTime": "2024-01-12T15:05:46.1590264+01:00"
   },
   "source": [
    "# ARCExpect\n",
    "\n"
   ]
  },
  {
   "cell_type": "markdown",
   "id": "a4117c6b",
   "metadata": {},
   "source": [
    "## Introduction\n",
    "\n",
    "`ARCExpect` offers easy to use and understand APIs to create and execute validation cases. The main intention of this library is offering a framework for validation of [ControlledVocabulary](https://github.com/nfdi4plants/ARCTokenization) tokens in **Research Data management (RDM)** based on testing principles from the world of software development:\n",
    "\n",
    "- a `validation case` is the equivalent of a unit test\n",
    "- `Validate.*` functions are the equivalent of `Assert.*`, `Expect.*`, or equivalent functions\n",
    "- A `BadgeCreation` API based on [AnyBadge.NET](https://github.com/kMutagene/AnyBadge.NET) enables creation of badges that visualize the validation results.\n",
    "- export of the validation results as a `junit` xml file enables further integration into e.g. CI/CD pipelines\n",
    "\n",
    "**User-facing APIs:**\n",
    "\n",
    "- `Validate` :\n",
    "  - validate **ControlledVocabulary** tokens, e.g. for their compliance with a reference ontology or for the type and shape of annotated value\n",
    "- `BadgeCreation`:\n",
    "  - Create and style small .svg images that visualize the validation results of a validation suite\n",
    "- `Execute` - perform actions (e.g. running validation, writing files result to disk)\n",
    "\n",
    "**Additional APIs:**\n",
    "\n",
    "- `OBOGraph`\n",
    "  - Create, complete, and query the graph representation of an ontology\n",
    "- `ARCGraph`\n",
    "  - Create, complete, and query a graph of ControlledVocabulary tokens based on the relations in a reference ontology"
   ]
  },
  {
   "cell_type": "markdown",
   "id": "726b3781",
   "metadata": {},
   "source": [
    "## Creating a validation case\n",
    "\n",
    "ARCExpect offers a `validationCase` Computation expression that enables the creation of validation cases in a very concise and readable way.\n",
    "\n",
    "Suppose you have a metadata token that annotates the value 42 with the term \"Thing\" from the \"Some Ontology\" ontology (meaning this token represents \"42 Things\"). "
   ]
  },
  {
   "cell_type": "code",
   "execution_count": 8,
   "id": "a9141eb8",
   "metadata": {
    "dotnet_interactive": {
     "language": "fsharp"
    },
    "dotnet_repl_cellExecutionEndTime": "2024-01-12T15:05:46.4123884+01:00",
    "dotnet_repl_cellExecutionStartTime": "2024-01-12T15:05:46.159491+01:00",
    "polyglot_notebook": {
     "kernelName": "fsharp"
    },
    "vscode": {
     "languageId": "polyglot-notebook"
    }
   },
   "outputs": [],
   "source": [
    "open ControlledVocabulary\n",
    "\n",
    "let testParam = \n",
    "    CvParam(\n",
    "        CvTerm.create(\"SO:000001\",\"Thing\",\"Some Ontology\"),\n",
    "        ParamValue.Value 42\n",
    "    )"
   ]
  },
  {
   "cell_type": "markdown",
   "id": "8286d6b8",
   "metadata": {},
   "source": [
    "Use the `validationCase` CE to creater a validation case, and use the `Validate` API to specify the validation step:"
   ]
  },
  {
   "cell_type": "code",
   "execution_count": 11,
   "metadata": {
    "dotnet_interactive": {
     "language": "fsharp"
    },
    "polyglot_notebook": {
     "kernelName": "fsharp"
    },
    "vscode": {
     "languageId": "polyglot-notebook"
    }
   },
   "outputs": [],
   "source": [
    "let myValidationCase = \n",
    "    validationCase (TestID.Name \"has value 42\") {\n",
    "        testParam |> Validate.Param.ValueIsEqualTo 42\n",
    "    }"
   ]
  },
  {
   "cell_type": "markdown",
   "id": "13795a2a",
   "metadata": {},
   "source": [
    "\n",
    "this will create a validation case that checks if the value of the given token is 42.\n",
    "\n",
    "Let's take a closer look at some API specifics: The `Validate` API is designed to be very close to natural language. \n",
    "\n",
    "`Validate.Param.TermIsEqualTo 42` means:\n",
    "\n",
    "> \"validate (for a) Param (that its) value is equal to 42\".\n",
    "\n",
    "Where `Param` is any type that implements the `IParam` interface from `ControlledVocabulary` - an interface that can be used to represent a value annotated with some controlled vocabulary."
   ]
  },
  {
   "cell_type": "markdown",
   "id": "192a2b86",
   "metadata": {},
   "source": [
    "## Performing validation\n",
    "\n",
    "Use the `Execute` API to perform the validation, obtaining a summary object"
   ]
  },
  {
   "cell_type": "code",
   "execution_count": 19,
   "metadata": {
    "dotnet_interactive": {
     "language": "fsharp"
    },
    "polyglot_notebook": {
     "kernelName": "fsharp"
    },
    "vscode": {
     "languageId": "polyglot-notebook"
    }
   },
   "outputs": [
    {
     "data": {
      "text/html": [
       "<details open=\"open\" class=\"dni-treeview\"><summary><span class=\"dni-code-hint\"><code>{ result = Passed\\n  count = 1\\n  meanDuration = 0.0\\n  maxDuration = 0.0 }</code></span></summary><div><table><thead><tr></tr></thead><tbody><tr><td>result</td><td><details class=\"dni-treeview\"><summary><span class=\"dni-code-hint\"><code>Passed</code></span></summary><div><table><thead><tr></tr></thead><tbody><tr><td>tag</td><td><div class=\"dni-plaintext\"><pre>Passed</pre></div></td></tr><tr><td>order</td><td><div class=\"dni-plaintext\"><pre>1</pre></div></td></tr><tr><td>isPassed</td><td><div class=\"dni-plaintext\"><pre>Passed</pre></div></td></tr><tr><td>isIgnored</td><td><div class=\"dni-plaintext\"><pre>Passed</pre></div></td></tr><tr><td>isFailed</td><td><div class=\"dni-plaintext\"><pre>Passed</pre></div></td></tr><tr><td>isException</td><td><div class=\"dni-plaintext\"><pre>False</pre></div></td></tr></tbody></table></div></details></td></tr><tr><td>count</td><td><div class=\"dni-plaintext\"><pre>1</pre></div></td></tr><tr><td>meanDuration</td><td><div class=\"dni-plaintext\"><pre>0</pre></div></td></tr><tr><td>maxDuration</td><td><div class=\"dni-plaintext\"><pre>0</pre></div></td></tr><tr><td>duration</td><td><span>00:00:00</span></td></tr></tbody></table></div></details><style>\r\n",
       ".dni-code-hint {\r\n",
       "    font-style: italic;\r\n",
       "    overflow: hidden;\r\n",
       "    white-space: nowrap;\r\n",
       "}\r\n",
       ".dni-treeview {\r\n",
       "    white-space: nowrap;\r\n",
       "}\r\n",
       ".dni-treeview td {\r\n",
       "    vertical-align: top;\r\n",
       "    text-align: start;\r\n",
       "}\r\n",
       "details.dni-treeview {\r\n",
       "    padding-left: 1em;\r\n",
       "}\r\n",
       "table td {\r\n",
       "    text-align: start;\r\n",
       "}\r\n",
       "table tr { \r\n",
       "    vertical-align: top; \r\n",
       "    margin: 0em 0px;\r\n",
       "}\r\n",
       "table tr td pre \r\n",
       "{ \r\n",
       "    vertical-align: top !important; \r\n",
       "    margin: 0em 0px !important;\r\n",
       "} \r\n",
       "table th {\r\n",
       "    text-align: start;\r\n",
       "}\r\n",
       "</style>"
      ]
     },
     "metadata": {},
     "output_type": "display_data"
    }
   ],
   "source": [
    "let validationResults = Execute.Validation(myValidationCase)\n",
    "\n",
    "validationResults.results\n",
    "|> List.head\n",
    "|> snd"
   ]
  },
  {
   "cell_type": "markdown",
   "id": "10a69f96",
   "metadata": {},
   "source": [
    "## Creating validation badges\n",
    "\n",
    "Use the `BadgeCreation` API to create badges that visualize the validation results."
   ]
  },
  {
   "cell_type": "code",
   "execution_count": 25,
   "metadata": {
    "dotnet_interactive": {
     "language": "fsharp"
    },
    "polyglot_notebook": {
     "kernelName": "fsharp"
    },
    "vscode": {
     "languageId": "polyglot-notebook"
    }
   },
   "outputs": [
    {
     "data": {
      "text/html": [
       "<?xml version=\"1.0\" encoding=\"UTF-8\"?>\n",
       "<svg xmlns=\"http://www.w3.org/2000/svg\" width=\"119\" height=\"20\">\n",
       "    <linearGradient id=\"b\" x2=\"0\" y2=\"100%\">\n",
       "        <stop offset=\"0\" stop-color=\"#bbb\" stop-opacity=\".1\"/>\n",
       "        <stop offset=\"1\" stop-opacity=\".1\"/>\n",
       "    </linearGradient>\n",
       "    <mask id=\"4\">\n",
       "        <rect width=\"119\" height=\"20\" rx=\"3\" fill=\"#fff\"/>\n",
       "    </mask>\n",
       "    <g mask=\"url(#4)\">\n",
       "        <path fill=\"#555\" d=\"M0 0h90v20H0z\"/>\n",
       "        <path fill=\"#4C1\" d=\"M90 0h29v20H90z\"/>\n",
       "        <path fill=\"url(#b)\" d=\"M0 0h119v20H0z\"/>\n",
       "    </g>\n",
       "    <g fill=\"#fff\" text-anchor=\"middle\" font-family=\"DejaVu Sans,Verdana,Geneva,sans-serif\" font-size=\"11\">\n",
       "        <text x=\"46\" y=\"15\" fill=\"#010101\" fill-opacity=\".3\">My validation</text>\n",
       "        <text x=\"45\" y=\"14\">My validation</text>\n",
       "    </g>\n",
       "    <g fill=\"#fff\" text-anchor=\"middle\" font-family=\"DejaVu Sans,Verdana,Geneva,sans-serif\" font-size=\"11\">\n",
       "        <text x=\"105.5\" y=\"15\" fill=\"#010101\" fill-opacity=\".3\">1/1</text>\n",
       "        <text x=\"104.5\" y=\"14\">1/1</text>\n",
       "    </g>\n",
       "</svg>\n"
      ]
     },
     "metadata": {},
     "output_type": "display_data"
    }
   ],
   "source": [
    "let myBadge = \n",
    "    validationResults \n",
    "    |> BadgeCreation.ofTestResults(\n",
    "        labelText = \"My validation\"\n",
    "    )\n",
    "\n",
    "(***hide***)\n",
    "myBadge.BadgeSvgText\n",
    "|> DisplayFunctions.HTML"
   ]
  },
  {
   "cell_type": "markdown",
   "id": "9734f857",
   "metadata": {},
   "source": [
    "You can also use `Execute.BadgeCreation` to write directly to a file:"
   ]
  },
  {
   "cell_type": "code",
   "execution_count": null,
   "metadata": {
    "dotnet_interactive": {
     "language": "fsharp"
    },
    "polyglot_notebook": {
     "kernelName": "fsharp"
    },
    "vscode": {
     "languageId": "polyglot-notebook"
    }
   },
   "outputs": [],
   "source": [
    "validationResults \n",
    "|> Execute.BadgeCreation(\n",
    "    path = \"some/path/here.svg\",\n",
    "    labelText = \"My validation\"\n",
    ")"
   ]
  },
  {
   "cell_type": "markdown",
   "id": "2a4cb946",
   "metadata": {},
   "source": [
    "## Exporting JUnit XML\n",
    "\n",
    "Use the `Execute.JUnitSummaryCreation` API to export the validation results as a `junit` xml file.\n"
   ]
  },
  {
   "cell_type": "code",
   "execution_count": null,
   "metadata": {
    "dotnet_interactive": {
     "language": "fsharp"
    },
    "polyglot_notebook": {
     "kernelName": "fsharp"
    },
    "vscode": {
     "languageId": "polyglot-notebook"
    }
   },
   "outputs": [],
   "source": [
    "validationResults\n",
    "|> Execute.JUnitSummaryCreation(\n",
    "    path = \"some/path/here.xml\"\n",
    ")"
   ]
  },
  {
   "cell_type": "markdown",
   "id": "0bad6ab9",
   "metadata": {},
   "source": [
    "## Performing a ValidationPipeline\n",
    "\n",
    "use the `Execute.ValidationPipeline` API to perform a validation pipeline consisting of these steps:\n",
    "\n",
    "- run the validation cases and collect the results\n",
    "- create the badge at the given path\n",
    "- export the junit summary at the given path"
   ]
  },
  {
   "cell_type": "code",
   "execution_count": 28,
   "metadata": {
    "dotnet_interactive": {
     "language": "fsharp"
    },
    "polyglot_notebook": {
     "kernelName": "fsharp"
    },
    "vscode": {
     "languageId": "polyglot-notebook"
    }
   },
   "outputs": [],
   "source": [
    "myValidationCase\n",
    "|> Execute.ValidationPipeline(\n",
    "    jUnitPath = \"some/path/here.xml\",\n",
    "    badgePath = \"some/path/here.svg\",\n",
    "    labelText = \"My validation\"\n",
    ")"
   ]
  }
 ],
 "metadata": {
  "dotnet_interactive": {
   "defaultKernelName": "fsharp",
   "items": [
    {
     "name": "fsharp"
    }
   ]
  },
  "kernelspec": {
   "display_name": ".NET (F#)",
   "language": "F#",
   "name": ".net-fsharp"
  },
  "language_info": {
   "file_extension": ".fs",
   "mimetype": "text/x-fsharp",
   "name": "F#",
   "pygments_lexer": "fsharp",
   "version": "6.0"
  },
  "polyglot_notebook": {
   "defaultKernelName": "fsharp",
   "items": [
    {
     "name": "fsharp"
    }
   ]
  }
 },
 "nbformat": 4,
 "nbformat_minor": 5
}
