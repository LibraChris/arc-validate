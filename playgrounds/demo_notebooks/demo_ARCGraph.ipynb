{
 "cells": [
  {
   "cell_type": "code",
   "execution_count": null,
   "metadata": {
    "dotnet_interactive": {
     "language": "fsharp"
    },
    "polyglot_notebook": {
     "kernelName": "fsharp"
    }
   },
   "outputs": [],
   "source": [
    "#r \"nuget: ARCExpect, 0.0.0-preview0\"\n",
    "#r \"nuget: ARCTokenization\"\n",
    "#r \"nuget: Graphoscope, 0.6.0-preview.1\"\n",
    "#r \"nuget: FSharpAux, 2.0.0\"\n",
    "#r \"nuget: Cytoscape.NET.Interactive\"\n",
    "\n",
    "open ARCTokenization\n",
    "open ARCExpect\n",
    "open Graphoscope\n",
    "open FSharpAux\n",
    "open Cytoscape.NET.Interactive"
   ]
  },
  {
   "cell_type": "code",
   "execution_count": null,
   "metadata": {
    "dotnet_interactive": {
     "language": "fsharp"
    },
    "polyglot_notebook": {
     "kernelName": "fsharp"
    }
   },
   "outputs": [],
   "source": [
    "// put in the path to your ARC's Investigation file here:\n",
    "\n",
    "let path = @\"\""
   ]
  },
  {
   "cell_type": "code",
   "execution_count": null,
   "metadata": {
    "dotnet_interactive": {
     "language": "fsharp"
    },
    "polyglot_notebook": {
     "kernelName": "fsharp"
    }
   },
   "outputs": [],
   "source": [
    "let iparams = ARCTokenization.Investigation.parseMetadataSheetFromFile path\n",
    "\n",
    "let onto = ARCTokenization.Terms.InvestigationMetadata.ontology\n",
    "\n",
    "let ontoGraph = OboGraph.ontologyToFGraphByName onto\n",
    "\n",
    "let ipsAdded = ARCGraph.addMissingTerms onto iparams\n",
    "\n",
    "let partitionedIps = Seq.groupWhen (ARCGraph.isHeader ontoGraph) ipsAdded\n",
    "\n",
    "let partitionallyFilledIps = partitionedIps |> Seq.map (ARCGraph.addMissingTermsInGroup ontoGraph)\n",
    "\n",
    "let groupedIps = partitionallyFilledIps |> Seq.map ARCGraph.groupTerms\n",
    "\n",
    "let matchedIps = groupedIps |> Seq.map (ARCGraph.matchTerms onto)\n",
    "\n",
    "let subgraphs = Seq.map (ARCGraph.constructIntermediateMetadataSubgraph ontoGraph) matchedIps\n",
    "\n",
    "let filledSubgraphs = Seq.map (fst >> ARCGraph.addEmptyIpsToNodeData) subgraphs\n",
    "\n",
    "let splitSubgraphs = Seq.map ARCGraph.splitMetadataSubgraph filledSubgraphs\n",
    "\n",
    "let filledLists = Seq.map ARCGraph.metadataSubgraphToList splitSubgraphs"
   ]
  },
  {
   "cell_type": "code",
   "execution_count": null,
   "metadata": {
    "dotnet_interactive": {
     "language": "fsharp"
    },
    "polyglot_notebook": {
     "kernelName": "fsharp"
    }
   },
   "outputs": [],
   "source": [
    "let contactsGraph =\n",
    "    splitSubgraphs\n",
    "    |> Seq.item 3\n",
    "    |> ARCGraph.Visualization.isaSplitGraphToFullCyGraph\n",
    "\n",
    "contactsGraph"
   ]
  }
 ],
 "metadata": {
  "kernelspec": {
   "display_name": ".NET (C#)",
   "language": "C#",
   "name": ".net-csharp"
  },
  "language_info": {
   "name": "polyglot-notebook"
  },
  "polyglot_notebook": {
   "kernelInfo": {
    "defaultKernelName": "csharp",
    "items": [
     {
      "aliases": [],
      "name": "csharp"
     },
     {
      "aliases": [],
      "languageName": "fsharp",
      "name": "fsharp"
     }
    ]
   }
  }
 },
 "nbformat": 4,
 "nbformat_minor": 2
}
